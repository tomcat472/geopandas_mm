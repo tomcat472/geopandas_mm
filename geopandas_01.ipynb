{
  "nbformat": 4,
  "nbformat_minor": 0,
  "metadata": {
    "colab": {
      "name": "geopandas_june_01.ipynb",
      "provenance": []
    },
    "kernelspec": {
      "name": "python3",
      "display_name": "Python 3"
    },
    "language_info": {
      "name": "python"
    }
  },
  "cells": [
    {
      "cell_type": "code",
      "execution_count": 1,
      "metadata": {
        "id": "3qReT8O0DKdq"
      },
      "outputs": [],
      "source": [
        "# ပထမဆုံး geopandas ကို install လုပ်ရပါမယ်။ \n",
        "# သူ့ကလဲ pandas လိုပါပဲ။ datatypes ၂ မျိုးရှိပါတယ်။ \n",
        "# Geo dataFrame နဲ့ Geo dataseries ဆိုပြီးဖြစ်ပါတယ်။"
      ]
    },
    {
      "cell_type": "code",
      "source": [
        "!pip install geopandas"
      ],
      "metadata": {
        "colab": {
          "base_uri": "https://localhost:8080/"
        },
        "id": "iRfd_dcvEYGt",
        "outputId": "227ecaf7-98b0-4bd9-b35e-3755bd2f66d2"
      },
      "execution_count": 2,
      "outputs": [
        {
          "output_type": "stream",
          "name": "stdout",
          "text": [
            "Looking in indexes: https://pypi.org/simple, https://us-python.pkg.dev/colab-wheels/public/simple/\n",
            "Requirement already satisfied: geopandas in /usr/local/lib/python3.7/dist-packages (0.10.2)\n",
            "Requirement already satisfied: fiona>=1.8 in /usr/local/lib/python3.7/dist-packages (from geopandas) (1.8.21)\n",
            "Requirement already satisfied: shapely>=1.6 in /usr/local/lib/python3.7/dist-packages (from geopandas) (1.8.2)\n",
            "Requirement already satisfied: pandas>=0.25.0 in /usr/local/lib/python3.7/dist-packages (from geopandas) (1.3.5)\n",
            "Requirement already satisfied: pyproj>=2.2.0 in /usr/local/lib/python3.7/dist-packages (from geopandas) (3.2.1)\n",
            "Requirement already satisfied: six>=1.7 in /usr/local/lib/python3.7/dist-packages (from fiona>=1.8->geopandas) (1.15.0)\n",
            "Requirement already satisfied: click>=4.0 in /usr/local/lib/python3.7/dist-packages (from fiona>=1.8->geopandas) (7.1.2)\n",
            "Requirement already satisfied: munch in /usr/local/lib/python3.7/dist-packages (from fiona>=1.8->geopandas) (2.5.0)\n",
            "Requirement already satisfied: attrs>=17 in /usr/local/lib/python3.7/dist-packages (from fiona>=1.8->geopandas) (21.4.0)\n",
            "Requirement already satisfied: setuptools in /usr/local/lib/python3.7/dist-packages (from fiona>=1.8->geopandas) (57.4.0)\n",
            "Requirement already satisfied: click-plugins>=1.0 in /usr/local/lib/python3.7/dist-packages (from fiona>=1.8->geopandas) (1.1.1)\n",
            "Requirement already satisfied: cligj>=0.5 in /usr/local/lib/python3.7/dist-packages (from fiona>=1.8->geopandas) (0.7.2)\n",
            "Requirement already satisfied: certifi in /usr/local/lib/python3.7/dist-packages (from fiona>=1.8->geopandas) (2022.6.15)\n",
            "Requirement already satisfied: python-dateutil>=2.7.3 in /usr/local/lib/python3.7/dist-packages (from pandas>=0.25.0->geopandas) (2.8.2)\n",
            "Requirement already satisfied: pytz>=2017.3 in /usr/local/lib/python3.7/dist-packages (from pandas>=0.25.0->geopandas) (2022.1)\n",
            "Requirement already satisfied: numpy>=1.17.3 in /usr/local/lib/python3.7/dist-packages (from pandas>=0.25.0->geopandas) (1.21.6)\n"
          ]
        }
      ]
    },
    {
      "cell_type": "code",
      "source": [
        "# install လုပ်ပြီးတာနဲ့ အသုံးပြုဖို့အတွက် import လုပ်ရပါမယ်။\n",
        "\n",
        "import geopandas as gpd #geopandas ကို import လုပ်ခြင်း\n",
        "\n",
        "# ကျန်တဲ့ တွဲသုံးမယ့် libraries တွေကိုလဲ import လုပ်ဖို့လိုပါတယ်။\n",
        "\n",
        "import pandas as pd\n",
        "import numpy as np\n",
        "import matplotlib.pyplot as plt\n",
        "import seaborn as sns\n",
        "from shapely.geometry import linestring, Polygon, Point"
      ],
      "metadata": {
        "id": "zjgAf9oyE9DK"
      },
      "execution_count": 3,
      "outputs": []
    },
    {
      "cell_type": "code",
      "source": [
        "# geopandas ရဲ့ original data တွေကို ပထမဆုံးအနေနဲ့ ဆွဲထုတ်ပြီး သုံးပါမယ်။\n",
        "\n",
        "gpd.datasets.get_path('naturalearth_lowres')\n",
        "\n",
        "# geopandas မှာ original dataset က naturalearth_lowres နဲ့ naturalearth_cities ဖြစ်ပါတယ်။\n"
      ],
      "metadata": {
        "colab": {
          "base_uri": "https://localhost:8080/",
          "height": 55
        },
        "id": "NaSbQ_YZEa5A",
        "outputId": "214ea7a1-64b1-4d79-9272-82811c3c2558"
      },
      "execution_count": 4,
      "outputs": [
        {
          "output_type": "execute_result",
          "data": {
            "text/plain": [
              "'/usr/local/lib/python3.7/dist-packages/geopandas/datasets/naturalearth_lowres/naturalearth_lowres.shp'"
            ],
            "application/vnd.google.colaboratory.intrinsic+json": {
              "type": "string"
            }
          },
          "metadata": {},
          "execution_count": 4
        }
      ]
    },
    {
      "cell_type": "code",
      "source": [
        "# Variable နာမည်တခုပေးပြီး အပေါ်က dataset ကို အသုံးပြုပါမယ်။\n",
        "\n",
        "world=gpd.datasets.get_path('naturalearth_lowres')\n",
        "world\n",
        "\n",
        "# output ထွက်လာတာကို ကြည့်လိုက်ရင် shp file ဆိုတာကိုတွေ့ရပါမယ်။"
      ],
      "metadata": {
        "colab": {
          "base_uri": "https://localhost:8080/",
          "height": 55
        },
        "id": "r_9oL1R8E2Bd",
        "outputId": "173db5ca-3b63-4b93-f8ae-1c0df35346fd"
      },
      "execution_count": 5,
      "outputs": [
        {
          "output_type": "execute_result",
          "data": {
            "text/plain": [
              "'/usr/local/lib/python3.7/dist-packages/geopandas/datasets/naturalearth_lowres/naturalearth_lowres.shp'"
            ],
            "application/vnd.google.colaboratory.intrinsic+json": {
              "type": "string"
            }
          },
          "metadata": {},
          "execution_count": 5
        }
      ]
    },
    {
      "cell_type": "code",
      "source": [
        "# အဲ့ shape file ကို သုံးဖို့အတွက် read_file method ကို သုံးဖို့လိုပါတယ်။\n",
        "\n",
        "world_df=gpd.read_file(world)\n",
        "world_df\n",
        "\n",
        "# ထွက်လာတဲ့ output က pandas dataframe က ထွက်လာသလိုပဲထွက်လာတာပါ။\n",
        "# pandas လိုပဲ သုံးရတာ အတူတူပါပဲ။ ဒါပေမယ့် geopandas ကတော့ geometry တွေပါတာပဲ ကွာတာပါ။"
      ],
      "metadata": {
        "colab": {
          "base_uri": "https://localhost:8080/",
          "height": 641
        },
        "id": "cC4vPo1TIg2q",
        "outputId": "fcb79168-a7e7-42f2-e2b9-371ed8a3545e"
      },
      "execution_count": 6,
      "outputs": [
        {
          "output_type": "execute_result",
          "data": {
            "text/plain": [
              "       pop_est      continent                      name iso_a3  gdp_md_est  \\\n",
              "0       920938        Oceania                      Fiji    FJI      8374.0   \n",
              "1     53950935         Africa                  Tanzania    TZA    150600.0   \n",
              "2       603253         Africa                 W. Sahara    ESH       906.5   \n",
              "3     35623680  North America                    Canada    CAN   1674000.0   \n",
              "4    326625791  North America  United States of America    USA  18560000.0   \n",
              "..         ...            ...                       ...    ...         ...   \n",
              "172    7111024         Europe                    Serbia    SRB    101800.0   \n",
              "173     642550         Europe                Montenegro    MNE     10610.0   \n",
              "174    1895250         Europe                    Kosovo    -99     18490.0   \n",
              "175    1218208  North America       Trinidad and Tobago    TTO     43570.0   \n",
              "176   13026129         Africa                  S. Sudan    SSD     20880.0   \n",
              "\n",
              "                                              geometry  \n",
              "0    MULTIPOLYGON (((180.00000 -16.06713, 180.00000...  \n",
              "1    POLYGON ((33.90371 -0.95000, 34.07262 -1.05982...  \n",
              "2    POLYGON ((-8.66559 27.65643, -8.66512 27.58948...  \n",
              "3    MULTIPOLYGON (((-122.84000 49.00000, -122.9742...  \n",
              "4    MULTIPOLYGON (((-122.84000 49.00000, -120.0000...  \n",
              "..                                                 ...  \n",
              "172  POLYGON ((18.82982 45.90887, 18.82984 45.90888...  \n",
              "173  POLYGON ((20.07070 42.58863, 19.80161 42.50009...  \n",
              "174  POLYGON ((20.59025 41.85541, 20.52295 42.21787...  \n",
              "175  POLYGON ((-61.68000 10.76000, -61.10500 10.890...  \n",
              "176  POLYGON ((30.83385 3.50917, 29.95350 4.17370, ...  \n",
              "\n",
              "[177 rows x 6 columns]"
            ],
            "text/html": [
              "\n",
              "  <div id=\"df-836de9a9-4d10-4e9c-9f4c-af9514a99833\">\n",
              "    <div class=\"colab-df-container\">\n",
              "      <div>\n",
              "<style scoped>\n",
              "    .dataframe tbody tr th:only-of-type {\n",
              "        vertical-align: middle;\n",
              "    }\n",
              "\n",
              "    .dataframe tbody tr th {\n",
              "        vertical-align: top;\n",
              "    }\n",
              "\n",
              "    .dataframe thead th {\n",
              "        text-align: right;\n",
              "    }\n",
              "</style>\n",
              "<table border=\"1\" class=\"dataframe\">\n",
              "  <thead>\n",
              "    <tr style=\"text-align: right;\">\n",
              "      <th></th>\n",
              "      <th>pop_est</th>\n",
              "      <th>continent</th>\n",
              "      <th>name</th>\n",
              "      <th>iso_a3</th>\n",
              "      <th>gdp_md_est</th>\n",
              "      <th>geometry</th>\n",
              "    </tr>\n",
              "  </thead>\n",
              "  <tbody>\n",
              "    <tr>\n",
              "      <th>0</th>\n",
              "      <td>920938</td>\n",
              "      <td>Oceania</td>\n",
              "      <td>Fiji</td>\n",
              "      <td>FJI</td>\n",
              "      <td>8374.0</td>\n",
              "      <td>MULTIPOLYGON (((180.00000 -16.06713, 180.00000...</td>\n",
              "    </tr>\n",
              "    <tr>\n",
              "      <th>1</th>\n",
              "      <td>53950935</td>\n",
              "      <td>Africa</td>\n",
              "      <td>Tanzania</td>\n",
              "      <td>TZA</td>\n",
              "      <td>150600.0</td>\n",
              "      <td>POLYGON ((33.90371 -0.95000, 34.07262 -1.05982...</td>\n",
              "    </tr>\n",
              "    <tr>\n",
              "      <th>2</th>\n",
              "      <td>603253</td>\n",
              "      <td>Africa</td>\n",
              "      <td>W. Sahara</td>\n",
              "      <td>ESH</td>\n",
              "      <td>906.5</td>\n",
              "      <td>POLYGON ((-8.66559 27.65643, -8.66512 27.58948...</td>\n",
              "    </tr>\n",
              "    <tr>\n",
              "      <th>3</th>\n",
              "      <td>35623680</td>\n",
              "      <td>North America</td>\n",
              "      <td>Canada</td>\n",
              "      <td>CAN</td>\n",
              "      <td>1674000.0</td>\n",
              "      <td>MULTIPOLYGON (((-122.84000 49.00000, -122.9742...</td>\n",
              "    </tr>\n",
              "    <tr>\n",
              "      <th>4</th>\n",
              "      <td>326625791</td>\n",
              "      <td>North America</td>\n",
              "      <td>United States of America</td>\n",
              "      <td>USA</td>\n",
              "      <td>18560000.0</td>\n",
              "      <td>MULTIPOLYGON (((-122.84000 49.00000, -120.0000...</td>\n",
              "    </tr>\n",
              "    <tr>\n",
              "      <th>...</th>\n",
              "      <td>...</td>\n",
              "      <td>...</td>\n",
              "      <td>...</td>\n",
              "      <td>...</td>\n",
              "      <td>...</td>\n",
              "      <td>...</td>\n",
              "    </tr>\n",
              "    <tr>\n",
              "      <th>172</th>\n",
              "      <td>7111024</td>\n",
              "      <td>Europe</td>\n",
              "      <td>Serbia</td>\n",
              "      <td>SRB</td>\n",
              "      <td>101800.0</td>\n",
              "      <td>POLYGON ((18.82982 45.90887, 18.82984 45.90888...</td>\n",
              "    </tr>\n",
              "    <tr>\n",
              "      <th>173</th>\n",
              "      <td>642550</td>\n",
              "      <td>Europe</td>\n",
              "      <td>Montenegro</td>\n",
              "      <td>MNE</td>\n",
              "      <td>10610.0</td>\n",
              "      <td>POLYGON ((20.07070 42.58863, 19.80161 42.50009...</td>\n",
              "    </tr>\n",
              "    <tr>\n",
              "      <th>174</th>\n",
              "      <td>1895250</td>\n",
              "      <td>Europe</td>\n",
              "      <td>Kosovo</td>\n",
              "      <td>-99</td>\n",
              "      <td>18490.0</td>\n",
              "      <td>POLYGON ((20.59025 41.85541, 20.52295 42.21787...</td>\n",
              "    </tr>\n",
              "    <tr>\n",
              "      <th>175</th>\n",
              "      <td>1218208</td>\n",
              "      <td>North America</td>\n",
              "      <td>Trinidad and Tobago</td>\n",
              "      <td>TTO</td>\n",
              "      <td>43570.0</td>\n",
              "      <td>POLYGON ((-61.68000 10.76000, -61.10500 10.890...</td>\n",
              "    </tr>\n",
              "    <tr>\n",
              "      <th>176</th>\n",
              "      <td>13026129</td>\n",
              "      <td>Africa</td>\n",
              "      <td>S. Sudan</td>\n",
              "      <td>SSD</td>\n",
              "      <td>20880.0</td>\n",
              "      <td>POLYGON ((30.83385 3.50917, 29.95350 4.17370, ...</td>\n",
              "    </tr>\n",
              "  </tbody>\n",
              "</table>\n",
              "<p>177 rows × 6 columns</p>\n",
              "</div>\n",
              "      <button class=\"colab-df-convert\" onclick=\"convertToInteractive('df-836de9a9-4d10-4e9c-9f4c-af9514a99833')\"\n",
              "              title=\"Convert this dataframe to an interactive table.\"\n",
              "              style=\"display:none;\">\n",
              "        \n",
              "  <svg xmlns=\"http://www.w3.org/2000/svg\" height=\"24px\"viewBox=\"0 0 24 24\"\n",
              "       width=\"24px\">\n",
              "    <path d=\"M0 0h24v24H0V0z\" fill=\"none\"/>\n",
              "    <path d=\"M18.56 5.44l.94 2.06.94-2.06 2.06-.94-2.06-.94-.94-2.06-.94 2.06-2.06.94zm-11 1L8.5 8.5l.94-2.06 2.06-.94-2.06-.94L8.5 2.5l-.94 2.06-2.06.94zm10 10l.94 2.06.94-2.06 2.06-.94-2.06-.94-.94-2.06-.94 2.06-2.06.94z\"/><path d=\"M17.41 7.96l-1.37-1.37c-.4-.4-.92-.59-1.43-.59-.52 0-1.04.2-1.43.59L10.3 9.45l-7.72 7.72c-.78.78-.78 2.05 0 2.83L4 21.41c.39.39.9.59 1.41.59.51 0 1.02-.2 1.41-.59l7.78-7.78 2.81-2.81c.8-.78.8-2.07 0-2.86zM5.41 20L4 18.59l7.72-7.72 1.47 1.35L5.41 20z\"/>\n",
              "  </svg>\n",
              "      </button>\n",
              "      \n",
              "  <style>\n",
              "    .colab-df-container {\n",
              "      display:flex;\n",
              "      flex-wrap:wrap;\n",
              "      gap: 12px;\n",
              "    }\n",
              "\n",
              "    .colab-df-convert {\n",
              "      background-color: #E8F0FE;\n",
              "      border: none;\n",
              "      border-radius: 50%;\n",
              "      cursor: pointer;\n",
              "      display: none;\n",
              "      fill: #1967D2;\n",
              "      height: 32px;\n",
              "      padding: 0 0 0 0;\n",
              "      width: 32px;\n",
              "    }\n",
              "\n",
              "    .colab-df-convert:hover {\n",
              "      background-color: #E2EBFA;\n",
              "      box-shadow: 0px 1px 2px rgba(60, 64, 67, 0.3), 0px 1px 3px 1px rgba(60, 64, 67, 0.15);\n",
              "      fill: #174EA6;\n",
              "    }\n",
              "\n",
              "    [theme=dark] .colab-df-convert {\n",
              "      background-color: #3B4455;\n",
              "      fill: #D2E3FC;\n",
              "    }\n",
              "\n",
              "    [theme=dark] .colab-df-convert:hover {\n",
              "      background-color: #434B5C;\n",
              "      box-shadow: 0px 1px 3px 1px rgba(0, 0, 0, 0.15);\n",
              "      filter: drop-shadow(0px 1px 2px rgba(0, 0, 0, 0.3));\n",
              "      fill: #FFFFFF;\n",
              "    }\n",
              "  </style>\n",
              "\n",
              "      <script>\n",
              "        const buttonEl =\n",
              "          document.querySelector('#df-836de9a9-4d10-4e9c-9f4c-af9514a99833 button.colab-df-convert');\n",
              "        buttonEl.style.display =\n",
              "          google.colab.kernel.accessAllowed ? 'block' : 'none';\n",
              "\n",
              "        async function convertToInteractive(key) {\n",
              "          const element = document.querySelector('#df-836de9a9-4d10-4e9c-9f4c-af9514a99833');\n",
              "          const dataTable =\n",
              "            await google.colab.kernel.invokeFunction('convertToInteractive',\n",
              "                                                     [key], {});\n",
              "          if (!dataTable) return;\n",
              "\n",
              "          const docLinkHtml = 'Like what you see? Visit the ' +\n",
              "            '<a target=\"_blank\" href=https://colab.research.google.com/notebooks/data_table.ipynb>data table notebook</a>'\n",
              "            + ' to learn more about interactive tables.';\n",
              "          element.innerHTML = '';\n",
              "          dataTable['output_type'] = 'display_data';\n",
              "          await google.colab.output.renderOutput(dataTable, element);\n",
              "          const docLink = document.createElement('div');\n",
              "          docLink.innerHTML = docLinkHtml;\n",
              "          element.appendChild(docLink);\n",
              "        }\n",
              "      </script>\n",
              "    </div>\n",
              "  </div>\n",
              "  "
            ]
          },
          "metadata": {},
          "execution_count": 6
        }
      ]
    },
    {
      "cell_type": "code",
      "source": [
        "# တခါထဲနဲ့ dataset ထဲက shape_file ကို သုံးချင်ရင်\n",
        "cities=gpd.read_file(gpd.datasets.get_path('naturalearth_cities'))\n",
        "cities"
      ],
      "metadata": {
        "colab": {
          "base_uri": "https://localhost:8080/",
          "height": 424
        },
        "id": "jQ1tlRb7MwkC",
        "outputId": "b2b0a350-ff53-4351-ae73-e84ef3dd3e4f"
      },
      "execution_count": 7,
      "outputs": [
        {
          "output_type": "execute_result",
          "data": {
            "text/plain": [
              "             name                     geometry\n",
              "0    Vatican City    POINT (12.45339 41.90328)\n",
              "1      San Marino    POINT (12.44177 43.93610)\n",
              "2           Vaduz     POINT (9.51667 47.13372)\n",
              "3      Luxembourg     POINT (6.13000 49.61166)\n",
              "4         Palikir    POINT (158.14997 6.91664)\n",
              "..            ...                          ...\n",
              "197         Cairo    POINT (31.24802 30.05191)\n",
              "198         Tokyo   POINT (139.74946 35.68696)\n",
              "199         Paris     POINT (2.33139 48.86864)\n",
              "200      Santiago  POINT (-70.66899 -33.44807)\n",
              "201     Singapore    POINT (103.85387 1.29498)\n",
              "\n",
              "[202 rows x 2 columns]"
            ],
            "text/html": [
              "\n",
              "  <div id=\"df-e3e4e593-d8e7-4a3d-bb72-818b2ae4f282\">\n",
              "    <div class=\"colab-df-container\">\n",
              "      <div>\n",
              "<style scoped>\n",
              "    .dataframe tbody tr th:only-of-type {\n",
              "        vertical-align: middle;\n",
              "    }\n",
              "\n",
              "    .dataframe tbody tr th {\n",
              "        vertical-align: top;\n",
              "    }\n",
              "\n",
              "    .dataframe thead th {\n",
              "        text-align: right;\n",
              "    }\n",
              "</style>\n",
              "<table border=\"1\" class=\"dataframe\">\n",
              "  <thead>\n",
              "    <tr style=\"text-align: right;\">\n",
              "      <th></th>\n",
              "      <th>name</th>\n",
              "      <th>geometry</th>\n",
              "    </tr>\n",
              "  </thead>\n",
              "  <tbody>\n",
              "    <tr>\n",
              "      <th>0</th>\n",
              "      <td>Vatican City</td>\n",
              "      <td>POINT (12.45339 41.90328)</td>\n",
              "    </tr>\n",
              "    <tr>\n",
              "      <th>1</th>\n",
              "      <td>San Marino</td>\n",
              "      <td>POINT (12.44177 43.93610)</td>\n",
              "    </tr>\n",
              "    <tr>\n",
              "      <th>2</th>\n",
              "      <td>Vaduz</td>\n",
              "      <td>POINT (9.51667 47.13372)</td>\n",
              "    </tr>\n",
              "    <tr>\n",
              "      <th>3</th>\n",
              "      <td>Luxembourg</td>\n",
              "      <td>POINT (6.13000 49.61166)</td>\n",
              "    </tr>\n",
              "    <tr>\n",
              "      <th>4</th>\n",
              "      <td>Palikir</td>\n",
              "      <td>POINT (158.14997 6.91664)</td>\n",
              "    </tr>\n",
              "    <tr>\n",
              "      <th>...</th>\n",
              "      <td>...</td>\n",
              "      <td>...</td>\n",
              "    </tr>\n",
              "    <tr>\n",
              "      <th>197</th>\n",
              "      <td>Cairo</td>\n",
              "      <td>POINT (31.24802 30.05191)</td>\n",
              "    </tr>\n",
              "    <tr>\n",
              "      <th>198</th>\n",
              "      <td>Tokyo</td>\n",
              "      <td>POINT (139.74946 35.68696)</td>\n",
              "    </tr>\n",
              "    <tr>\n",
              "      <th>199</th>\n",
              "      <td>Paris</td>\n",
              "      <td>POINT (2.33139 48.86864)</td>\n",
              "    </tr>\n",
              "    <tr>\n",
              "      <th>200</th>\n",
              "      <td>Santiago</td>\n",
              "      <td>POINT (-70.66899 -33.44807)</td>\n",
              "    </tr>\n",
              "    <tr>\n",
              "      <th>201</th>\n",
              "      <td>Singapore</td>\n",
              "      <td>POINT (103.85387 1.29498)</td>\n",
              "    </tr>\n",
              "  </tbody>\n",
              "</table>\n",
              "<p>202 rows × 2 columns</p>\n",
              "</div>\n",
              "      <button class=\"colab-df-convert\" onclick=\"convertToInteractive('df-e3e4e593-d8e7-4a3d-bb72-818b2ae4f282')\"\n",
              "              title=\"Convert this dataframe to an interactive table.\"\n",
              "              style=\"display:none;\">\n",
              "        \n",
              "  <svg xmlns=\"http://www.w3.org/2000/svg\" height=\"24px\"viewBox=\"0 0 24 24\"\n",
              "       width=\"24px\">\n",
              "    <path d=\"M0 0h24v24H0V0z\" fill=\"none\"/>\n",
              "    <path d=\"M18.56 5.44l.94 2.06.94-2.06 2.06-.94-2.06-.94-.94-2.06-.94 2.06-2.06.94zm-11 1L8.5 8.5l.94-2.06 2.06-.94-2.06-.94L8.5 2.5l-.94 2.06-2.06.94zm10 10l.94 2.06.94-2.06 2.06-.94-2.06-.94-.94-2.06-.94 2.06-2.06.94z\"/><path d=\"M17.41 7.96l-1.37-1.37c-.4-.4-.92-.59-1.43-.59-.52 0-1.04.2-1.43.59L10.3 9.45l-7.72 7.72c-.78.78-.78 2.05 0 2.83L4 21.41c.39.39.9.59 1.41.59.51 0 1.02-.2 1.41-.59l7.78-7.78 2.81-2.81c.8-.78.8-2.07 0-2.86zM5.41 20L4 18.59l7.72-7.72 1.47 1.35L5.41 20z\"/>\n",
              "  </svg>\n",
              "      </button>\n",
              "      \n",
              "  <style>\n",
              "    .colab-df-container {\n",
              "      display:flex;\n",
              "      flex-wrap:wrap;\n",
              "      gap: 12px;\n",
              "    }\n",
              "\n",
              "    .colab-df-convert {\n",
              "      background-color: #E8F0FE;\n",
              "      border: none;\n",
              "      border-radius: 50%;\n",
              "      cursor: pointer;\n",
              "      display: none;\n",
              "      fill: #1967D2;\n",
              "      height: 32px;\n",
              "      padding: 0 0 0 0;\n",
              "      width: 32px;\n",
              "    }\n",
              "\n",
              "    .colab-df-convert:hover {\n",
              "      background-color: #E2EBFA;\n",
              "      box-shadow: 0px 1px 2px rgba(60, 64, 67, 0.3), 0px 1px 3px 1px rgba(60, 64, 67, 0.15);\n",
              "      fill: #174EA6;\n",
              "    }\n",
              "\n",
              "    [theme=dark] .colab-df-convert {\n",
              "      background-color: #3B4455;\n",
              "      fill: #D2E3FC;\n",
              "    }\n",
              "\n",
              "    [theme=dark] .colab-df-convert:hover {\n",
              "      background-color: #434B5C;\n",
              "      box-shadow: 0px 1px 3px 1px rgba(0, 0, 0, 0.15);\n",
              "      filter: drop-shadow(0px 1px 2px rgba(0, 0, 0, 0.3));\n",
              "      fill: #FFFFFF;\n",
              "    }\n",
              "  </style>\n",
              "\n",
              "      <script>\n",
              "        const buttonEl =\n",
              "          document.querySelector('#df-e3e4e593-d8e7-4a3d-bb72-818b2ae4f282 button.colab-df-convert');\n",
              "        buttonEl.style.display =\n",
              "          google.colab.kernel.accessAllowed ? 'block' : 'none';\n",
              "\n",
              "        async function convertToInteractive(key) {\n",
              "          const element = document.querySelector('#df-e3e4e593-d8e7-4a3d-bb72-818b2ae4f282');\n",
              "          const dataTable =\n",
              "            await google.colab.kernel.invokeFunction('convertToInteractive',\n",
              "                                                     [key], {});\n",
              "          if (!dataTable) return;\n",
              "\n",
              "          const docLinkHtml = 'Like what you see? Visit the ' +\n",
              "            '<a target=\"_blank\" href=https://colab.research.google.com/notebooks/data_table.ipynb>data table notebook</a>'\n",
              "            + ' to learn more about interactive tables.';\n",
              "          element.innerHTML = '';\n",
              "          dataTable['output_type'] = 'display_data';\n",
              "          await google.colab.output.renderOutput(dataTable, element);\n",
              "          const docLink = document.createElement('div');\n",
              "          docLink.innerHTML = docLinkHtml;\n",
              "          element.appendChild(docLink);\n",
              "        }\n",
              "      </script>\n",
              "    </div>\n",
              "  </div>\n",
              "  "
            ]
          },
          "metadata": {},
          "execution_count": 7
        }
      ]
    },
    {
      "cell_type": "code",
      "source": [
        "# ကိုယ့် shp file ရဲ့ information ကို စစ်ကြည့်ရအောင်\n",
        "world_df.info()\n",
        "\n",
        "# ဒီမှာဆိုရင် output ထွက်လာတဲ့ dtype တွေမှာ int64, object, float64 နဲ့ geometry ထွက်လာတာကိုတွေ့ရမှာ ဖြစ်ပါတယ်။"
      ],
      "metadata": {
        "colab": {
          "base_uri": "https://localhost:8080/"
        },
        "id": "eLabts3rJxme",
        "outputId": "52d697f9-9e68-49e1-b128-28b02ee03dcd"
      },
      "execution_count": 8,
      "outputs": [
        {
          "output_type": "stream",
          "name": "stdout",
          "text": [
            "<class 'geopandas.geodataframe.GeoDataFrame'>\n",
            "RangeIndex: 177 entries, 0 to 176\n",
            "Data columns (total 6 columns):\n",
            " #   Column      Non-Null Count  Dtype   \n",
            "---  ------      --------------  -----   \n",
            " 0   pop_est     177 non-null    int64   \n",
            " 1   continent   177 non-null    object  \n",
            " 2   name        177 non-null    object  \n",
            " 3   iso_a3      177 non-null    object  \n",
            " 4   gdp_md_est  177 non-null    float64 \n",
            " 5   geometry    177 non-null    geometry\n",
            "dtypes: float64(1), geometry(1), int64(1), object(3)\n",
            "memory usage: 8.4+ KB\n"
          ]
        }
      ]
    },
    {
      "cell_type": "code",
      "source": [
        "# dataframe တခုလုံးနဲ့ column တခုချင်းစီလိုက် datatype ကို စစ်ကြည့်ရအောင်။\n",
        "print(type(world_df)) #dataframe တခုလုံးကို စစ်တာဖြစ်ပါတယ်။\n",
        "print(type(world_df.name)) #column ကို စစ်တာဖြစ်ပါတယ်။"
      ],
      "metadata": {
        "colab": {
          "base_uri": "https://localhost:8080/"
        },
        "id": "jk7UYGtiLUtR",
        "outputId": "0c83fe80-d32a-4976-a3c7-5ad6d166e601"
      },
      "execution_count": 9,
      "outputs": [
        {
          "output_type": "stream",
          "name": "stdout",
          "text": [
            "<class 'geopandas.geodataframe.GeoDataFrame'>\n",
            "<class 'pandas.core.series.Series'>\n"
          ]
        }
      ]
    },
    {
      "cell_type": "code",
      "source": [
        "# shp file အား visualization ပြုလုပ်ခြင်း\n",
        "world_df.plot()"
      ],
      "metadata": {
        "colab": {
          "base_uri": "https://localhost:8080/",
          "height": 229
        },
        "id": "QGuhWh7EMosD",
        "outputId": "727da403-4f23-42c7-bbf5-0c4f121af675"
      },
      "execution_count": 10,
      "outputs": [
        {
          "output_type": "execute_result",
          "data": {
            "text/plain": [
              "<matplotlib.axes._subplots.AxesSubplot at 0x7f4efa018350>"
            ]
          },
          "metadata": {},
          "execution_count": 10
        },
        {
          "output_type": "display_data",
          "data": {
            "text/plain": [
              "<Figure size 432x288 with 1 Axes>"
            ],
            "image/png": "[encoded data removed]"
          },
          "metadata": {
            "needs_background": "light"
          }
        }
      ]
    },
    {
      "cell_type": "code",
      "source": [
        "# loc နဲ့ iloc method ဖြင့် row အလိုက်မြေပုံအား ကြည့်ခြင်း\n",
        "# loc က index name ဖြင့် row အားကြည့်ရှုခြင်းဖြစ်ပြီး\n",
        "# iloc ကတော့ index loctaion ဖြင့် row အားကြည့်တာဖြစ်ပါတယ်။\n",
        "# ကိုယ်ရချင်တဲ့ row name (သို့) row index ကိုထည့်တာနဲ့ row မှာရှိတဲ့ data အားလုံးကို output လုပ်ပေးမှာဖြစ်ပါတယ်။\n",
        "print(world_df.loc[100])"
      ],
      "metadata": {
        "colab": {
          "base_uri": "https://localhost:8080/"
        },
        "id": "cT_ilX6eNNml",
        "outputId": "613a4fb9-c9d5-4cbd-d653-70636b4ca220"
      },
      "execution_count": 11,
      "outputs": [
        {
          "output_type": "stream",
          "name": "stdout",
          "text": [
            "pop_est                                                  758288\n",
            "continent                                                  Asia\n",
            "name                                                     Bhutan\n",
            "iso_a3                                                      BTN\n",
            "gdp_md_est                                               6432.0\n",
            "geometry      POLYGON ((91.69665652869668 27.771741848251665...\n",
            "Name: 100, dtype: object\n"
          ]
        }
      ]
    },
    {
      "cell_type": "code",
      "source": [
        "# မြေပုံအနေနဲ့ ကြည့်ခြင်ရင်တော့ geometry column ကို အသုံးပြုရမှာဖြစ်ပါတယ်။\n",
        "world_df.loc[100].geometry\n",
        "#ဒီမှာက index 100 မှာရှိတဲ့ geometry ကို ကြည့်တာဖြစ်ပါတယ်။"
      ],
      "metadata": {
        "colab": {
          "base_uri": "https://localhost:8080/",
          "height": 122
        },
        "id": "dYfz09NuNqiG",
        "outputId": "c0f7665f-2296-401e-92f9-261b01f4c2f0"
      },
      "execution_count": 12,
      "outputs": [
        {
          "output_type": "execute_result",
          "data": {
            "text/plain": [
              "<shapely.geometry.polygon.Polygon at 0x7f4efa7ec210>"
            ],
            "image/svg+xml": "<svg xmlns=\"http://www.w3.org/2000/svg\" xmlns:xlink=\"http://www.w3.org/1999/xlink\" width=\"100.0\" height=\"100.0\" viewBox=\"88.68266995641899 26.58782444915839 3.5526203613423206 1.840192586270394\" preserveAspectRatio=\"xMinYMin meet\"><g transform=\"matrix(1,0,0,-1,0,55.01584148458717)\"><path fill-rule=\"evenodd\" fill=\"#66cc99\" stroke=\"#555555\" stroke-width=\"0.07105240722684641\" opacity=\"0.6\" d=\"M 91.69665652869668,27.771741848251665 L 92.10371178585974,27.452614040633208 L 92.03348351437509,26.83831045176356 L 91.21751264848643,26.808648179628022 L 90.37327477413407,26.87572418874288 L 89.74452762243885,26.719402981059957 L 88.83564253128938,27.098966376243762 L 88.81424848832056,27.299315904239364 L 89.47581017452111,28.042758897406397 L 90.01582889197118,28.296438503527217 L 90.7305139505678,28.064953925075756 L 91.25885379431992,28.040614325466294 L 91.69665652869668,27.771741848251665 z\" /></g></svg>"
          },
          "metadata": {},
          "execution_count": 12
        }
      ]
    },
    {
      "cell_type": "code",
      "source": [
        "world_df['geometry'].loc[100]\n",
        "# ဒါကျတော့ geometry column ရဲ့ 100 မြှောက် row ကို ကြည့်တာဖြစ်ပါတယ်။"
      ],
      "metadata": {
        "colab": {
          "base_uri": "https://localhost:8080/",
          "height": 122
        },
        "id": "vutn6MvnOc9g",
        "outputId": "fa2e6ab0-1097-4f48-c6b5-9a11b3149739"
      },
      "execution_count": 13,
      "outputs": [
        {
          "output_type": "execute_result",
          "data": {
            "text/plain": [
              "<shapely.geometry.polygon.Polygon at 0x7f4efa7ec210>"
            ],
            "image/svg+xml": "<svg xmlns=\"http://www.w3.org/2000/svg\" xmlns:xlink=\"http://www.w3.org/1999/xlink\" width=\"100.0\" height=\"100.0\" viewBox=\"88.68266995641899 26.58782444915839 3.5526203613423206 1.840192586270394\" preserveAspectRatio=\"xMinYMin meet\"><g transform=\"matrix(1,0,0,-1,0,55.01584148458717)\"><path fill-rule=\"evenodd\" fill=\"#66cc99\" stroke=\"#555555\" stroke-width=\"0.07105240722684641\" opacity=\"0.6\" d=\"M 91.69665652869668,27.771741848251665 L 92.10371178585974,27.452614040633208 L 92.03348351437509,26.83831045176356 L 91.21751264848643,26.808648179628022 L 90.37327477413407,26.87572418874288 L 89.74452762243885,26.719402981059957 L 88.83564253128938,27.098966376243762 L 88.81424848832056,27.299315904239364 L 89.47581017452111,28.042758897406397 L 90.01582889197118,28.296438503527217 L 90.7305139505678,28.064953925075756 L 91.25885379431992,28.040614325466294 L 91.69665652869668,27.771741848251665 z\" /></g></svg>"
          },
          "metadata": {},
          "execution_count": 13
        }
      ]
    },
    {
      "cell_type": "code",
      "source": [
        "# ဒီနေ့တော့ ဒီလောက်ပဲ။ (23-6-2022)"
      ],
      "metadata": {
        "id": "TK4XMskwOuC6"
      },
      "execution_count": 14,
      "outputs": []
    }
  ]
}
