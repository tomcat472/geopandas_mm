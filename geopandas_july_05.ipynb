{
  "nbformat": 4,
  "nbformat_minor": 0,
  "metadata": {
    "colab": {
      "name": "geopandas_july_05.ipynb",
      "provenance": [],
      "authorship_tag": "ABX9TyMO75JiiMD3XYElDrK105Ms",
      "include_colab_link": true
    },
    "kernelspec": {
      "name": "python3",
      "display_name": "Python 3"
    },
    "language_info": {
      "name": "python"
    }
  },
  "cells": [
    {
      "cell_type": "markdown",
      "metadata": {
        "id": "view-in-github",
        "colab_type": "text"
      },
      "source": [
        "<a href=\"https://colab.research.google.com/github/tomcat472/geopandas_mm/blob/main/geopandas_july_05.ipynb\" target=\"_parent\"><img src=\"https://colab.research.google.com/assets/colab-badge.svg\" alt=\"Open In Colab\"/></a>"
      ]
    },
    {
      "cell_type": "code",
      "execution_count": 1,
      "metadata": {
        "colab": {
          "base_uri": "https://localhost:8080/"
        },
        "id": "ktzX6mQN_UQF",
        "outputId": "f914ab0e-32ce-4922-c0ca-679250c3f63a"
      },
      "outputs": [
        {
          "output_type": "stream",
          "name": "stdout",
          "text": [
            "Looking in indexes: https://pypi.org/simple, https://us-python.pkg.dev/colab-wheels/public/simple/\n",
            "Requirement already satisfied: geopandas in /usr/local/lib/python3.7/dist-packages (0.10.2)\n",
            "Requirement already satisfied: shapely>=1.6 in /usr/local/lib/python3.7/dist-packages (from geopandas) (1.8.2)\n",
            "Requirement already satisfied: fiona>=1.8 in /usr/local/lib/python3.7/dist-packages (from geopandas) (1.8.21)\n",
            "Requirement already satisfied: pandas>=0.25.0 in /usr/local/lib/python3.7/dist-packages (from geopandas) (1.3.5)\n",
            "Requirement already satisfied: pyproj>=2.2.0 in /usr/local/lib/python3.7/dist-packages (from geopandas) (3.2.1)\n",
            "Requirement already satisfied: six>=1.7 in /usr/local/lib/python3.7/dist-packages (from fiona>=1.8->geopandas) (1.15.0)\n",
            "Requirement already satisfied: click>=4.0 in /usr/local/lib/python3.7/dist-packages (from fiona>=1.8->geopandas) (7.1.2)\n",
            "Requirement already satisfied: setuptools in /usr/local/lib/python3.7/dist-packages (from fiona>=1.8->geopandas) (57.4.0)\n",
            "Requirement already satisfied: munch in /usr/local/lib/python3.7/dist-packages (from fiona>=1.8->geopandas) (2.5.0)\n",
            "Requirement already satisfied: cligj>=0.5 in /usr/local/lib/python3.7/dist-packages (from fiona>=1.8->geopandas) (0.7.2)\n",
            "Requirement already satisfied: click-plugins>=1.0 in /usr/local/lib/python3.7/dist-packages (from fiona>=1.8->geopandas) (1.1.1)\n",
            "Requirement already satisfied: attrs>=17 in /usr/local/lib/python3.7/dist-packages (from fiona>=1.8->geopandas) (21.4.0)\n",
            "Requirement already satisfied: certifi in /usr/local/lib/python3.7/dist-packages (from fiona>=1.8->geopandas) (2022.6.15)\n",
            "Requirement already satisfied: python-dateutil>=2.7.3 in /usr/local/lib/python3.7/dist-packages (from pandas>=0.25.0->geopandas) (2.8.2)\n",
            "Requirement already satisfied: pytz>=2017.3 in /usr/local/lib/python3.7/dist-packages (from pandas>=0.25.0->geopandas) (2022.1)\n",
            "Requirement already satisfied: numpy>=1.17.3 in /usr/local/lib/python3.7/dist-packages (from pandas>=0.25.0->geopandas) (1.21.6)\n"
          ]
        }
      ],
      "source": [
        "!pip install geopandas"
      ]
    },
    {
      "cell_type": "code",
      "source": [
        "from google.colab import drive\n",
        "drive.mount('/content/drive')"
      ],
      "metadata": {
        "colab": {
          "base_uri": "https://localhost:8080/"
        },
        "id": "tfYs0p-3_djL",
        "outputId": "e9f59218-c354-49d5-84b4-f677518ac60f"
      },
      "execution_count": 2,
      "outputs": [
        {
          "output_type": "stream",
          "name": "stdout",
          "text": [
            "Drive already mounted at /content/drive; to attempt to forcibly remount, call drive.mount(\"/content/drive\", force_remount=True).\n"
          ]
        }
      ]
    },
    {
      "cell_type": "code",
      "source": [
        "import geopandas as gpd\n",
        "import pandas as pd\n",
        "import matplotlib.pyplot as plt\n",
        "import seaborn as sns\n",
        "%matplotlib inline\n",
        "\n",
        "from shapely.geometry import Point"
      ],
      "metadata": {
        "id": "N3m9qGZRA7mo"
      },
      "execution_count": 3,
      "outputs": []
    },
    {
      "cell_type": "code",
      "source": [
        "# plotting csv/xls file\n",
        "df=pd.read_csv('/content/drive/MyDrive/Shape File/lahe_village.csv')\n",
        "df.head()"
      ],
      "metadata": {
        "colab": {
          "base_uri": "https://localhost:8080/",
          "height": 357
        },
        "id": "BJiHUB6EASdJ",
        "outputId": "9101c416-a67f-43e8-eb91-9e872c7a191c"
      },
      "execution_count": 4,
      "outputs": [
        {
          "output_type": "execute_result",
          "data": {
            "text/plain": [
              "  SR_Pcode District/SAZ_Pcode        District/SAZ_Name_Eng  Tsp_Pcode  \\\n",
              "0   MMR005         MMR005S001  Naga Self-Administered Zone  MMR005036   \n",
              "1   MMR005         MMR005S001  Naga Self-Administered Zone  MMR005036   \n",
              "2   MMR005         MMR005S001  Naga Self-Administered Zone  MMR005036   \n",
              "3   MMR005         MMR005S001  Naga Self-Administered Zone  MMR005036   \n",
              "4   MMR005         MMR005S001  Naga Self-Administered Zone  MMR005036   \n",
              "\n",
              "  Township_Name_Eng      VT_Pcode Village_Tract_Name_Eng  Village_Pcode  \\\n",
              "0              Lahe  MMR005036008                Ant Paw         176804   \n",
              "1              Lahe  MMR005036029              Htan Khaw         176855   \n",
              "2              Lahe  MMR005036005    Htan Khaw Nauk Kone         176797   \n",
              "3              Lahe  MMR005036005    Htan Khaw Nauk Kone         176793   \n",
              "4              Lahe  MMR005036026               Hton San         176850   \n",
              "\n",
              "      Village_Name_Eng   Village_Name_MMR Commonly_Used_Local_Vlg_Name_Eng  \\\n",
              "0              Ant Paw           ????????                              NaN   \n",
              "1            Htan Khaw            ???????                              NaN   \n",
              "2    Htan Khaw Hay Mon      ?????????????                              NaN   \n",
              "3  Htan Khaw Nauk Kone  ?????????????????                              NaN   \n",
              "4             Hton San              ?????                              NaN   \n",
              "\n",
              "  Commonly_Used_Local_Vlg_Name_Mya  Longitude   Latitude Source Start_Date  \\\n",
              "0                              NaN  95.385643  26.411461    GAD  31-Mar-15   \n",
              "1                              NaN  95.618843  26.206579    GAD  31-Mar-15   \n",
              "2                              NaN  95.440910  26.570601    GAD  31-Mar-15   \n",
              "3                              NaN  95.368881  26.587099    GAD  31-Mar-15   \n",
              "4                              NaN  95.294128  26.189159    GAD  31-Mar-15   \n",
              "\n",
              "  Modified_End_Date  Notification  Notification_modified Village_Status  \n",
              "0               NaN  No. 000/2015                    NaN         Active  \n",
              "1               NaN  No. 000/2015                    NaN         Active  \n",
              "2               NaN  No. 000/2015                    NaN         Active  \n",
              "3               NaN  No. 000/2015                    NaN         Active  \n",
              "4               NaN  No. 000/2015                    NaN         Active  "
            ],
            "text/html": [
              "\n",
              "  <div id=\"df-8150f9c9-f8bb-4769-91d9-976e0092a094\">\n",
              "    <div class=\"colab-df-container\">\n",
              "      <div>\n",
              "<style scoped>\n",
              "    .dataframe tbody tr th:only-of-type {\n",
              "        vertical-align: middle;\n",
              "    }\n",
              "\n",
              "    .dataframe tbody tr th {\n",
              "        vertical-align: top;\n",
              "    }\n",
              "\n",
              "    .dataframe thead th {\n",
              "        text-align: right;\n",
              "    }\n",
              "</style>\n",
              "<table border=\"1\" class=\"dataframe\">\n",
              "  <thead>\n",
              "    <tr style=\"text-align: right;\">\n",
              "      <th></th>\n",
              "      <th>SR_Pcode</th>\n",
              "      <th>District/SAZ_Pcode</th>\n",
              "      <th>District/SAZ_Name_Eng</th>\n",
              "      <th>Tsp_Pcode</th>\n",
              "      <th>Township_Name_Eng</th>\n",
              "      <th>VT_Pcode</th>\n",
              "      <th>Village_Tract_Name_Eng</th>\n",
              "      <th>Village_Pcode</th>\n",
              "      <th>Village_Name_Eng</th>\n",
              "      <th>Village_Name_MMR</th>\n",
              "      <th>Commonly_Used_Local_Vlg_Name_Eng</th>\n",
              "      <th>Commonly_Used_Local_Vlg_Name_Mya</th>\n",
              "      <th>Longitude</th>\n",
              "      <th>Latitude</th>\n",
              "      <th>Source</th>\n",
              "      <th>Start_Date</th>\n",
              "      <th>Modified_End_Date</th>\n",
              "      <th>Notification</th>\n",
              "      <th>Notification_modified</th>\n",
              "      <th>Village_Status</th>\n",
              "    </tr>\n",
              "  </thead>\n",
              "  <tbody>\n",
              "    <tr>\n",
              "      <th>0</th>\n",
              "      <td>MMR005</td>\n",
              "      <td>MMR005S001</td>\n",
              "      <td>Naga Self-Administered Zone</td>\n",
              "      <td>MMR005036</td>\n",
              "      <td>Lahe</td>\n",
              "      <td>MMR005036008</td>\n",
              "      <td>Ant Paw</td>\n",
              "      <td>176804</td>\n",
              "      <td>Ant Paw</td>\n",
              "      <td>????????</td>\n",
              "      <td>NaN</td>\n",
              "      <td>NaN</td>\n",
              "      <td>95.385643</td>\n",
              "      <td>26.411461</td>\n",
              "      <td>GAD</td>\n",
              "      <td>31-Mar-15</td>\n",
              "      <td>NaN</td>\n",
              "      <td>No. 000/2015</td>\n",
              "      <td>NaN</td>\n",
              "      <td>Active</td>\n",
              "    </tr>\n",
              "    <tr>\n",
              "      <th>1</th>\n",
              "      <td>MMR005</td>\n",
              "      <td>MMR005S001</td>\n",
              "      <td>Naga Self-Administered Zone</td>\n",
              "      <td>MMR005036</td>\n",
              "      <td>Lahe</td>\n",
              "      <td>MMR005036029</td>\n",
              "      <td>Htan Khaw</td>\n",
              "      <td>176855</td>\n",
              "      <td>Htan Khaw</td>\n",
              "      <td>???????</td>\n",
              "      <td>NaN</td>\n",
              "      <td>NaN</td>\n",
              "      <td>95.618843</td>\n",
              "      <td>26.206579</td>\n",
              "      <td>GAD</td>\n",
              "      <td>31-Mar-15</td>\n",
              "      <td>NaN</td>\n",
              "      <td>No. 000/2015</td>\n",
              "      <td>NaN</td>\n",
              "      <td>Active</td>\n",
              "    </tr>\n",
              "    <tr>\n",
              "      <th>2</th>\n",
              "      <td>MMR005</td>\n",
              "      <td>MMR005S001</td>\n",
              "      <td>Naga Self-Administered Zone</td>\n",
              "      <td>MMR005036</td>\n",
              "      <td>Lahe</td>\n",
              "      <td>MMR005036005</td>\n",
              "      <td>Htan Khaw Nauk Kone</td>\n",
              "      <td>176797</td>\n",
              "      <td>Htan Khaw Hay Mon</td>\n",
              "      <td>?????????????</td>\n",
              "      <td>NaN</td>\n",
              "      <td>NaN</td>\n",
              "      <td>95.440910</td>\n",
              "      <td>26.570601</td>\n",
              "      <td>GAD</td>\n",
              "      <td>31-Mar-15</td>\n",
              "      <td>NaN</td>\n",
              "      <td>No. 000/2015</td>\n",
              "      <td>NaN</td>\n",
              "      <td>Active</td>\n",
              "    </tr>\n",
              "    <tr>\n",
              "      <th>3</th>\n",
              "      <td>MMR005</td>\n",
              "      <td>MMR005S001</td>\n",
              "      <td>Naga Self-Administered Zone</td>\n",
              "      <td>MMR005036</td>\n",
              "      <td>Lahe</td>\n",
              "      <td>MMR005036005</td>\n",
              "      <td>Htan Khaw Nauk Kone</td>\n",
              "      <td>176793</td>\n",
              "      <td>Htan Khaw Nauk Kone</td>\n",
              "      <td>?????????????????</td>\n",
              "      <td>NaN</td>\n",
              "      <td>NaN</td>\n",
              "      <td>95.368881</td>\n",
              "      <td>26.587099</td>\n",
              "      <td>GAD</td>\n",
              "      <td>31-Mar-15</td>\n",
              "      <td>NaN</td>\n",
              "      <td>No. 000/2015</td>\n",
              "      <td>NaN</td>\n",
              "      <td>Active</td>\n",
              "    </tr>\n",
              "    <tr>\n",
              "      <th>4</th>\n",
              "      <td>MMR005</td>\n",
              "      <td>MMR005S001</td>\n",
              "      <td>Naga Self-Administered Zone</td>\n",
              "      <td>MMR005036</td>\n",
              "      <td>Lahe</td>\n",
              "      <td>MMR005036026</td>\n",
              "      <td>Hton San</td>\n",
              "      <td>176850</td>\n",
              "      <td>Hton San</td>\n",
              "      <td>?????</td>\n",
              "      <td>NaN</td>\n",
              "      <td>NaN</td>\n",
              "      <td>95.294128</td>\n",
              "      <td>26.189159</td>\n",
              "      <td>GAD</td>\n",
              "      <td>31-Mar-15</td>\n",
              "      <td>NaN</td>\n",
              "      <td>No. 000/2015</td>\n",
              "      <td>NaN</td>\n",
              "      <td>Active</td>\n",
              "    </tr>\n",
              "  </tbody>\n",
              "</table>\n",
              "</div>\n",
              "      <button class=\"colab-df-convert\" onclick=\"convertToInteractive('df-8150f9c9-f8bb-4769-91d9-976e0092a094')\"\n",
              "              title=\"Convert this dataframe to an interactive table.\"\n",
              "              style=\"display:none;\">\n",
              "        \n",
              "  <svg xmlns=\"http://www.w3.org/2000/svg\" height=\"24px\"viewBox=\"0 0 24 24\"\n",
              "       width=\"24px\">\n",
              "    <path d=\"M0 0h24v24H0V0z\" fill=\"none\"/>\n",
              "    <path d=\"M18.56 5.44l.94 2.06.94-2.06 2.06-.94-2.06-.94-.94-2.06-.94 2.06-2.06.94zm-11 1L8.5 8.5l.94-2.06 2.06-.94-2.06-.94L8.5 2.5l-.94 2.06-2.06.94zm10 10l.94 2.06.94-2.06 2.06-.94-2.06-.94-.94-2.06-.94 2.06-2.06.94z\"/><path d=\"M17.41 7.96l-1.37-1.37c-.4-.4-.92-.59-1.43-.59-.52 0-1.04.2-1.43.59L10.3 9.45l-7.72 7.72c-.78.78-.78 2.05 0 2.83L4 21.41c.39.39.9.59 1.41.59.51 0 1.02-.2 1.41-.59l7.78-7.78 2.81-2.81c.8-.78.8-2.07 0-2.86zM5.41 20L4 18.59l7.72-7.72 1.47 1.35L5.41 20z\"/>\n",
              "  </svg>\n",
              "      </button>\n",
              "      \n",
              "  <style>\n",
              "    .colab-df-container {\n",
              "      display:flex;\n",
              "      flex-wrap:wrap;\n",
              "      gap: 12px;\n",
              "    }\n",
              "\n",
              "    .colab-df-convert {\n",
              "      background-color: #E8F0FE;\n",
              "      border: none;\n",
              "      border-radius: 50%;\n",
              "      cursor: pointer;\n",
              "      display: none;\n",
              "      fill: #1967D2;\n",
              "      height: 32px;\n",
              "      padding: 0 0 0 0;\n",
              "      width: 32px;\n",
              "    }\n",
              "\n",
              "    .colab-df-convert:hover {\n",
              "      background-color: #E2EBFA;\n",
              "      box-shadow: 0px 1px 2px rgba(60, 64, 67, 0.3), 0px 1px 3px 1px rgba(60, 64, 67, 0.15);\n",
              "      fill: #174EA6;\n",
              "    }\n",
              "\n",
              "    [theme=dark] .colab-df-convert {\n",
              "      background-color: #3B4455;\n",
              "      fill: #D2E3FC;\n",
              "    }\n",
              "\n",
              "    [theme=dark] .colab-df-convert:hover {\n",
              "      background-color: #434B5C;\n",
              "      box-shadow: 0px 1px 3px 1px rgba(0, 0, 0, 0.15);\n",
              "      filter: drop-shadow(0px 1px 2px rgba(0, 0, 0, 0.3));\n",
              "      fill: #FFFFFF;\n",
              "    }\n",
              "  </style>\n",
              "\n",
              "      <script>\n",
              "        const buttonEl =\n",
              "          document.querySelector('#df-8150f9c9-f8bb-4769-91d9-976e0092a094 button.colab-df-convert');\n",
              "        buttonEl.style.display =\n",
              "          google.colab.kernel.accessAllowed ? 'block' : 'none';\n",
              "\n",
              "        async function convertToInteractive(key) {\n",
              "          const element = document.querySelector('#df-8150f9c9-f8bb-4769-91d9-976e0092a094');\n",
              "          const dataTable =\n",
              "            await google.colab.kernel.invokeFunction('convertToInteractive',\n",
              "                                                     [key], {});\n",
              "          if (!dataTable) return;\n",
              "\n",
              "          const docLinkHtml = 'Like what you see? Visit the ' +\n",
              "            '<a target=\"_blank\" href=https://colab.research.google.com/notebooks/data_table.ipynb>data table notebook</a>'\n",
              "            + ' to learn more about interactive tables.';\n",
              "          element.innerHTML = '';\n",
              "          dataTable['output_type'] = 'display_data';\n",
              "          await google.colab.output.renderOutput(dataTable, element);\n",
              "          const docLink = document.createElement('div');\n",
              "          docLink.innerHTML = docLinkHtml;\n",
              "          element.appendChild(docLink);\n",
              "        }\n",
              "      </script>\n",
              "    </div>\n",
              "  </div>\n",
              "  "
            ]
          },
          "metadata": {},
          "execution_count": 4
        }
      ]
    },
    {
      "cell_type": "code",
      "source": [
        "# function တခုဆောက်ပြီး shapely နဲ့ တွဲသုံးမှာ ဖြစ်ပါတယ်။\n",
        "points=df.apply(lambda row: Point(row.Longitude,row.Latitude),axis=1)"
      ],
      "metadata": {
        "colab": {
          "base_uri": "https://localhost:8080/"
        },
        "id": "1tsu778sA5tN",
        "outputId": "a1031f2f-954e-46f2-a081-7517706e0b9f"
      },
      "execution_count": 5,
      "outputs": [
        {
          "output_type": "stream",
          "name": "stderr",
          "text": [
            "/usr/local/lib/python3.7/dist-packages/pandas/core/dtypes/cast.py:118: ShapelyDeprecationWarning: The array interface is deprecated and will no longer work in Shapely 2.0. Convert the '.coords' to a numpy array instead.\n",
            "  arr = construct_1d_object_array_from_listlike(values)\n"
          ]
        }
      ]
    },
    {
      "cell_type": "code",
      "source": [
        "# အပေါ်က ဆောက်ထားတဲ့ points တွေကို geopandas ရဲ့ dataframe ထဲကို ထည့်ရပါမယ်။\n",
        "villages=gpd.GeoDataFrame(df,geometry=points)\n",
        "villages.plot()"
      ],
      "metadata": {
        "colab": {
          "base_uri": "https://localhost:8080/",
          "height": 283
        },
        "id": "ggc1XJ1lByYV",
        "outputId": "60f1571b-e4a0-4288-8325-714642c932b1"
      },
      "execution_count": 6,
      "outputs": [
        {
          "output_type": "execute_result",
          "data": {
            "text/plain": [
              "<matplotlib.axes._subplots.AxesSubplot at 0x7fe99f393bd0>"
            ]
          },
          "metadata": {},
          "execution_count": 6
        },
        {
          "output_type": "display_data",
          "data": {
            "text/plain": [
              "<Figure size 432x288 with 1 Axes>"
            ],
            "image/png": "[encoded data removed]"
          },
          "metadata": {
            "needs_background": "light"
          }
        }
      ]
    },
    {
      "cell_type": "code",
      "source": [
        "# crs ကို စစ်ကြည့်လိုက်တော့ none ဖြစ်နေတာကို တွေ့ရမှာဖြစ်ပါတယ်\n",
        "# အဲ့တာမို့ crs ကို သတ်မှတ်ပေးဖို့လိုပါတယ်။\n",
        "print(villages.crs)"
      ],
      "metadata": {
        "colab": {
          "base_uri": "https://localhost:8080/"
        },
        "id": "knMYk61gCHyd",
        "outputId": "ec577cb4-1299-4d3c-cb1c-fc24fa41333e"
      },
      "execution_count": 7,
      "outputs": [
        {
          "output_type": "stream",
          "name": "stdout",
          "text": [
            "None\n"
          ]
        }
      ]
    },
    {
      "cell_type": "code",
      "source": [
        "# crs သတ်မှတ်ခြင်း\n",
        "villages.crs={'init':'epsg:4326'}"
      ],
      "metadata": {
        "colab": {
          "base_uri": "https://localhost:8080/"
        },
        "id": "Vh-5DgTQCQGy",
        "outputId": "96983274-3148-4c29-e613-b942412689d3"
      },
      "execution_count": 8,
      "outputs": [
        {
          "output_type": "stream",
          "name": "stderr",
          "text": [
            "/usr/local/lib/python3.7/dist-packages/pyproj/crs/crs.py:131: FutureWarning: '+init=<authority>:<code>' syntax is deprecated. '<authority>:<code>' is the preferred initialization method. When making the change, be mindful of axis order changes: https://pyproj4.github.io/pyproj/stable/gotchas.html#axis-order-changes-in-proj-6\n",
            "  in_crs_string = _prepare_from_proj_string(in_crs_string)\n"
          ]
        }
      ]
    },
    {
      "cell_type": "code",
      "source": [
        "# ဒါဆိုရင် crs တန်ဖိုးရှိသွားပြီဖြစ်ကြောင်း တွေ့ရမှာဖြစ်ပါတယ်။\n",
        "print(villages.crs)"
      ],
      "metadata": {
        "colab": {
          "base_uri": "https://localhost:8080/"
        },
        "id": "AKFS94AvC3aH",
        "outputId": "af787581-9c6f-4d4c-d0a2-2eabef276fc2"
      },
      "execution_count": 9,
      "outputs": [
        {
          "output_type": "stream",
          "name": "stdout",
          "text": [
            "+init=epsg:4326 +type=crs\n"
          ]
        }
      ]
    },
    {
      "cell_type": "code",
      "source": [
        "# crs သတ်မှတ်ထားတဲ့ layer ကို ပြန်ပြီး reproject လုပ်လို့ရပါတယ်။\n",
        "villages.to_crs(epsg=32647).plot()"
      ],
      "metadata": {
        "colab": {
          "base_uri": "https://localhost:8080/",
          "height": 294
        },
        "id": "ZB88XHdDDE0c",
        "outputId": "eda36585-47ef-474e-920e-126cb11d99bf"
      },
      "execution_count": 10,
      "outputs": [
        {
          "output_type": "execute_result",
          "data": {
            "text/plain": [
              "<matplotlib.axes._subplots.AxesSubplot at 0x7fe99edfb790>"
            ]
          },
          "metadata": {},
          "execution_count": 10
        },
        {
          "output_type": "display_data",
          "data": {
            "text/plain": [
              "<Figure size 432x288 with 1 Axes>"
            ],
            "image/png": "[encoded data removed]"
          },
          "metadata": {
            "needs_background": "light"
          }
        }
      ]
    },
    {
      "cell_type": "code",
      "source": [
        "# geopandas နည်းကို မသုံးပဲ data visuialization က plotting method ကိုသုံးပြီး layer ကို ကြည့်လို့ရပါတယ်။\n",
        "# အဲ့လိုဟာတွေက geometry မပါပါဘူး။ spatial analysis လုပ်လို့ အဆင်မပြေပါဘူး။\n",
        "# ဒီနည်းက လုံးဝမသုံးသင့်ပါဘူး။\n",
        "\n",
        "plt.scatter(df.Longitude,df.Latitude,marker='o',color='red');"
      ],
      "metadata": {
        "colab": {
          "base_uri": "https://localhost:8080/",
          "height": 265
        },
        "id": "sYLtClaiDiSo",
        "outputId": "670ced07-9bef-44ce-e3e8-ca1942d2a241"
      },
      "execution_count": 11,
      "outputs": [
        {
          "output_type": "display_data",
          "data": {
            "text/plain": [
              "<Figure size 432x288 with 1 Axes>"
            ],
            "image/png": "[encoded data removed]"
          },
          "metadata": {
            "needs_background": "light"
          }
        }
      ]
    },
    {
      "cell_type": "code",
      "source": [
        "# (1-7-2022)"
      ],
      "metadata": {
        "id": "mQcfhMvbEBfH"
      },
      "execution_count": 12,
      "outputs": []
    }
  ]
}